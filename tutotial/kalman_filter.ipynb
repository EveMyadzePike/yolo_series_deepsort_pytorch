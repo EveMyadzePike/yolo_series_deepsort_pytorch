{
 "cells": [
  {
   "cell_type": "code",
   "execution_count": 1,
   "metadata": {},
   "outputs": [
    {
     "data": {
      "image/png": "[encoded data removed]",
      "text/plain": [
       "<Figure size 432x288 with 1 Axes>"
      ]
     },
     "metadata": {
      "needs_background": "light"
     },
     "output_type": "display_data"
    }
   ],
   "source": [
    "import numpy as np\n",
    "\n",
    "\n",
    "t = np.linspace(1,100,100) # 在1~100s内采样100次\n",
    "a = 0.5 # 加速度值\n",
    "position = (a * t**2)/2\n",
    "\n",
    "position_noise = position+np.random.normal(0,120,size=(t.shape[0])) # 模拟生成GPS位置测量数据（带噪声）\n",
    "import matplotlib.pyplot as plt\n",
    "plt.plot(t,position,label='truth position')\n",
    "plt.plot(t,position_noise,label='only use measured position')\n",
    "\n",
    "\n",
    "#---------------卡尔曼滤波----------------\n",
    "# 初始的估计导弹的位置就直接用GPS测量的位置\n",
    "predicts = [position_noise[0]]\n",
    "position_predict = predicts[0]\n",
    "\n",
    "predict_var = 0\n",
    "odo_var = 120**2 #这是我们自己设定的位置测量仪器的方差，越大则测量值占比越低\n",
    "v_std = 50 # 测量仪器的方差（这个方差在现实生活中是需要我们进行传感器标定才能算出来的，可搜Allan方差标定）\n",
    "for i in range(1,t.shape[0]):\n",
    "  \n",
    "    dv =  (position[i]-position[i-1]) + np.random.normal(0,50) # 模拟从IMU读取出的速度\n",
    "    position_predict = position_predict + dv # 利用上个时刻的位置和速度预测当前位置\n",
    "    predict_var += v_std**2 # 更新预测数据的方差\n",
    "    # 下面是Kalman滤波\n",
    "    position_predict = position_predict*odo_var/(predict_var + odo_var)+position_noise[i]*predict_var/(predict_var + odo_var)\n",
    "    predict_var = (predict_var * odo_var)/(predict_var + odo_var)\n",
    "    predicts.append(position_predict)\n",
    "\n",
    "    \n",
    "plt.plot(t,predicts,label='kalman filtered position')\n",
    "\n",
    "plt.legend()\n",
    "plt.show()"
   ]
  },
  {
   "cell_type": "code",
   "execution_count": 2,
   "metadata": {},
   "outputs": [
    {
     "data": {
      "text/plain": [
       "'5.5.6'"
      ]
     },
     "execution_count": 2,
     "metadata": {},
     "output_type": "execute_result"
    }
   ],
   "source": [
    "import ipykernel\n",
    "ipykernel.__version__\n"
   ]
  },
  {
   "cell_type": "markdown",
   "metadata": {},
   "source": [
    "# 实现细节"
   ]
  },
  {
   "cell_type": "code",
   "execution_count": 4,
   "metadata": {},
   "outputs": [
    {
     "data": {
      "text/plain": [
       "array([  1.,   2.,   3.,   4.,   5.,   6.,   7.,   8.,   9.,  10.,  11.,\n",
       "        12.,  13.,  14.,  15.,  16.,  17.,  18.,  19.,  20.,  21.,  22.,\n",
       "        23.,  24.,  25.,  26.,  27.,  28.,  29.,  30.,  31.,  32.,  33.,\n",
       "        34.,  35.,  36.,  37.,  38.,  39.,  40.,  41.,  42.,  43.,  44.,\n",
       "        45.,  46.,  47.,  48.,  49.,  50.,  51.,  52.,  53.,  54.,  55.,\n",
       "        56.,  57.,  58.,  59.,  60.,  61.,  62.,  63.,  64.,  65.,  66.,\n",
       "        67.,  68.,  69.,  70.,  71.,  72.,  73.,  74.,  75.,  76.,  77.,\n",
       "        78.,  79.,  80.,  81.,  82.,  83.,  84.,  85.,  86.,  87.,  88.,\n",
       "        89.,  90.,  91.,  92.,  93.,  94.,  95.,  96.,  97.,  98.,  99.,\n",
       "       100.])"
      ]
     },
     "execution_count": 4,
     "metadata": {},
     "output_type": "execute_result"
    }
   ],
   "source": [
    "import numpy as np\n",
    "\n",
    "\n",
    "t = np.linspace(1,100,100) # 在1~100s内采样100次\n",
    "t"
   ]
  },
  {
   "cell_type": "code",
   "execution_count": 6,
   "metadata": {},
   "outputs": [
    {
     "data": {
      "text/plain": [
       "array([2.50000e-01, 1.00000e+00, 2.25000e+00, 4.00000e+00, 6.25000e+00,\n",
       "       9.00000e+00, 1.22500e+01, 1.60000e+01, 2.02500e+01, 2.50000e+01,\n",
       "       3.02500e+01, 3.60000e+01, 4.22500e+01, 4.90000e+01, 5.62500e+01,\n",
       "       6.40000e+01, 7.22500e+01, 8.10000e+01, 9.02500e+01, 1.00000e+02,\n",
       "       1.10250e+02, 1.21000e+02, 1.32250e+02, 1.44000e+02, 1.56250e+02,\n",
       "       1.69000e+02, 1.82250e+02, 1.96000e+02, 2.10250e+02, 2.25000e+02,\n",
       "       2.40250e+02, 2.56000e+02, 2.72250e+02, 2.89000e+02, 3.06250e+02,\n",
       "       3.24000e+02, 3.42250e+02, 3.61000e+02, 3.80250e+02, 4.00000e+02,\n",
       "       4.20250e+02, 4.41000e+02, 4.62250e+02, 4.84000e+02, 5.06250e+02,\n",
       "       5.29000e+02, 5.52250e+02, 5.76000e+02, 6.00250e+02, 6.25000e+02,\n",
       "       6.50250e+02, 6.76000e+02, 7.02250e+02, 7.29000e+02, 7.56250e+02,\n",
       "       7.84000e+02, 8.12250e+02, 8.41000e+02, 8.70250e+02, 9.00000e+02,\n",
       "       9.30250e+02, 9.61000e+02, 9.92250e+02, 1.02400e+03, 1.05625e+03,\n",
       "       1.08900e+03, 1.12225e+03, 1.15600e+03, 1.19025e+03, 1.22500e+03,\n",
       "       1.26025e+03, 1.29600e+03, 1.33225e+03, 1.36900e+03, 1.40625e+03,\n",
       "       1.44400e+03, 1.48225e+03, 1.52100e+03, 1.56025e+03, 1.60000e+03,\n",
       "       1.64025e+03, 1.68100e+03, 1.72225e+03, 1.76400e+03, 1.80625e+03,\n",
       "       1.84900e+03, 1.89225e+03, 1.93600e+03, 1.98025e+03, 2.02500e+03,\n",
       "       2.07025e+03, 2.11600e+03, 2.16225e+03, 2.20900e+03, 2.25625e+03,\n",
       "       2.30400e+03, 2.35225e+03, 2.40100e+03, 2.45025e+03, 2.50000e+03])"
      ]
     },
     "execution_count": 6,
     "metadata": {},
     "output_type": "execute_result"
    }
   ],
   "source": [
    "a = 0.5 # 加速度值\n",
    "position = (a * t**2)/2\n",
    "position"
   ]
  },
  {
   "cell_type": "code",
   "execution_count": 7,
   "metadata": {},
   "outputs": [
    {
     "data": {
      "text/plain": [
       "array([ -72.00658973,   59.48542507,   65.88242428,   29.62864785,\n",
       "        252.47895337,   57.86088151,  165.00158493,  125.68582142,\n",
       "         49.0979358 , -114.12165201,   64.76072536,  148.31616843,\n",
       "         44.84439219,   79.29215003,  135.99368876,  122.16730607,\n",
       "        230.5115723 ,  241.41687442,  188.00960037,  172.50177471,\n",
       "        114.43810177,  202.19323573,  192.71712711,   33.87200499,\n",
       "        337.38773863,  -16.2709299 ,   79.48451009,  163.305164  ,\n",
       "        216.11894036,  197.29663914,  339.61248909,  309.23203913,\n",
       "        453.99733924,  348.09520386,  420.85768738,  100.0885769 ,\n",
       "        306.55841846,  206.54321755,  394.04077482,  370.6368073 ,\n",
       "        423.22013788,  628.00292409,  380.97185402,  260.58230957,\n",
       "        584.50895507,  341.12371688,  475.90769762,  179.27205355,\n",
       "        736.69342075,  765.78574032,  585.20038408,  663.07809416,\n",
       "        878.92464224,  579.84812675,  617.17664905,  876.83080645,\n",
       "        765.10593612,  824.89210164,  823.67932626,  921.68530137,\n",
       "        817.00212795, 1024.43397987, 1146.37877833,  932.24759439,\n",
       "        870.9890024 ,  907.44499766, 1240.78109798, 1189.59575384,\n",
       "       1285.27326708, 1257.40383337, 1306.21289303, 1378.83654364,\n",
       "       1177.22618825, 1614.60780027, 1517.71595293, 1513.99420362,\n",
       "       1672.20163316, 1642.20929802, 1824.41872949, 1679.82501242,\n",
       "       1672.50567036, 1788.15760183, 1819.895891  , 2001.3118286 ,\n",
       "       1901.94694029, 2004.0517588 , 1790.22711743, 2108.20512883,\n",
       "       2039.6135463 , 2260.47545275, 1940.58291961, 2032.33425551,\n",
       "       2211.92307303, 2242.4170434 , 2303.34628762, 2378.75704185,\n",
       "       2161.42701007, 2321.41524235, 2421.33123875, 2638.32739995])"
      ]
     },
     "execution_count": 7,
     "metadata": {},
     "output_type": "execute_result"
    }
   ],
   "source": [
    "position_noise = position+np.random.normal(0,120,size=(t.shape[0])) # 模拟生成GPS位置测量数据（带噪声）\n",
    "position_noise"
   ]
  },
  {
   "cell_type": "code",
   "execution_count": 9,
   "metadata": {},
   "outputs": [
    {
     "name": "stdout",
     "output_type": "stream",
     "text": [
      "[-72.00658973454976]\n",
      "-72.00658973454976\n"
     ]
    }
   ],
   "source": [
    "# 初始的估计导弹的位置就直接用GPS测量的位置\n",
    "predicts = [position_noise[0]]\n",
    "position_predict = predicts[0]\n",
    "print(predicts)\n",
    "print(position_predict)\n"
   ]
  }
 ],
 "metadata": {
  "interpreter": {
   "hash": "bd6a6c60dade43b69853fa3d1a911c7f31b7e679808dd68aeee5439bc9df2c90"
  },
  "kernelspec": {
   "display_name": "Python 3.6.9 64-bit ('deep_sort_pytorch': venv)",
   "language": "python",
   "name": "python3"
  },
  "language_info": {
   "codemirror_mode": {
    "name": "ipython",
    "version": 3
   },
   "file_extension": ".py",
   "mimetype": "text/x-python",
   "name": "python",
   "nbconvert_exporter": "python",
   "pygments_lexer": "ipython3",
   "version": "3.6.9"
  },
  "orig_nbformat": 4
 },
 "nbformat": 4,
 "nbformat_minor": 2
}
